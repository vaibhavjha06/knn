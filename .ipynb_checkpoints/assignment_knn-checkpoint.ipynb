{
 "cells": [
  {
   "cell_type": "markdown",
   "id": "f7ef20f0-722f-4240-8a79-437d4a3b8832",
   "metadata": {},
   "source": [
    "## Assignment 3: $k$ Nearest Neighbor\n",
    "\n",
    "**Do two questions.**\n",
    "\n",
    "`! git clone https://github.com/DS3001/knn`"
   ]
  },
  {
   "cell_type": "markdown",
   "id": "5d9212c0",
   "metadata": {},
   "source": [
    "**Q0.**\n",
    "1. What is the difference between regression and classification?\n",
    "2. What is a confusion table? What does it help us understand about a model's performance?\n",
    "3. What does the SSE quantify about a particular model?\n",
    "4. What are overfitting and underfitting? \n",
    "5. Why does splitting the data into training and testing sets, and choosing $k$ by evaluating accuracy or SSE on the test set, improve model performance?\n",
    "6. With classification, we can report a class label as a prediction or a probability distribution over class labels. Please explain the strengths and weaknesses of each approach."
   ]
  },
  {
   "cell_type": "markdown",
   "id": "d5cf06c6-70fb-427d-b429-585c0ab2c3b1",
   "metadata": {},
   "source": [
    "Regression and classification are both methods of prediction through finding patterns in large sets of data. Regression predicts a numeric, continuous dependent variable. Conversely, classification involves the prediction of categorical outcomes. There are different, discrete classes of which algorithms attempt to assign observations through various methods.\n",
    "\n",
    "A confusion table helps us understand the precision of a model's performance. It is typically a square matrix modeling predicted performance by actual performance. In the testing phase of an algorithm, the model is run through a separate set of data (distinct from the training data) where the outcomes are already known. The model outputs its prediction, or classification, and the confusion table depicts its performance. Each class composes a row and column in the confusion matrix, with the result being an nxn matrix where every possible combination of actual and predicted values is shown. Counts of instances where the various combinations occur are tallied. An ideal model results in a diagonal matrix with true values matching predicted values. In practice, though, there are many false values.\n",
    "\n",
    "The SSE quantifies performance of a predictive model. This measure quantifies the precision of a model. A sum square of errors, the residual (e) is calculated as the difference between the predicted and actual values. The difference is then squared to get positive values. Finally, the resultant value is summed across all observations. This results in one scalar value indicative of the model's predictive performance.\n",
    "\n",
    "Overfitting is a case where too many data points are involved in the prediction of an outcome. This can result when, in the k nearest neighbor method, more data points are used to predict an outcome than are not. This can result in a gross generalization of predictions across observations, lacking meaningful insight for researchers and future predictions. Conversely, underfitting involves the use of too few data points to predict an outcome. This results when, in the k nearest neighbor method, limited data points are used to predict an outcome than are not. These data points often do not produce a generalizable average of outcome values that can be used to precisely predict future cases. This can equally result in a lack of meaningful insight for researchers.\n",
    "\n",
    "The applicability of a model across data is not guaranteed. In splitting data into training and testing sets, researchers can gain more confidence in the value of a model. The training set, a significant portion of the data as as whole, would be used to build the model. A testing set would be set aside to then run through the trained model and measure performance. If there is a high SSE, this may show a lack of generalizability of the model. Contrarily, a low SSE in testing the model may hint towards practical use of the model.\n",
    "\n",
    "Classification, unlike regression, does not have a method to find middle ground with the k nearest neighbor method. As a result, the two options available in predicting the outcome of observations is to use the modal result (most common outcome class among the neighbors) or measure probability distributions of all classes among the neighbors and pick the most frequent. Using the modal result can be a way to generate highly precise models with the data given (low SSE) but may not translate as well with other data sets. The generalizability will be poor if other data sets do not match outcome frequency. Conversely, the probability distribution over class labels allows for a more pragmatic approach to predicting outcomes. This can be good if there is a large distribution of class instances among the neighbors, where there is no clear modal outcome. The downside of this approach, though, can be an over-emphasis on rare (outlier) instances by taking away from the probability of higher frequency outcomes."
   ]
  },
  {
   "cell_type": "markdown",
   "id": "194455fa",
   "metadata": {},
   "source": [
    "**Q1.** This question is a case study for $k$ nearest neighbor regression, using the `USA_cars_datasets.csv` data.\n",
    "\n",
    "The target variable `y` is `price` and the features are `year` and `mileage`.\n",
    "\n",
    "1. Load the `./data/USA_cars_datasets.csv`. Keep the following variables and drop the rest: `price`, `year`, `mileage`. Are there any `NA`'s to handle? Look at the head and dimensions of the data.\n",
    "2. Maxmin normalize `year` and `mileage`.\n",
    "3. Split the sample into ~80% for training and ~20% for evaluation.\n",
    "4. Use the $k$NN algorithm and the training data to predict `price` using `year` and `mileage` for the test set for $k=3,10,25,50,100,300$. For each value of $k$, compute the mean squared error and print a scatterplot showing the test value plotted against the predicted value. What patterns do you notice as you increase $k$?\n",
    "5. Determine the optimal $k$ for these data.\n",
    "6. Describe what happened in the plots of predicted versus actual prices as $k$ varied, taking your answer into part 6 into account. (Hint: Use the words \"underfitting\" and \"overfitting\".)"
   ]
  },
  {
   "cell_type": "code",
   "execution_count": 18,
   "id": "ab831de1-d6f9-4fcd-b210-084b1a1f97fe",
   "metadata": {},
   "outputs": [
    {
     "data": {
      "text/plain": [
       "(2499, 3)"
      ]
     },
     "execution_count": 18,
     "metadata": {},
     "output_type": "execute_result"
    }
   ],
   "source": [
    "import pandas as pd\n",
    "import seaborn as sns\n",
    "import matplotlib.pyplot as plt\n",
    "import numpy as np\n",
    "from sklearn.neighbors import KNeighborsRegressor\n",
    "\n",
    "cars = pd.read_csv(\"/Users/vaibhavjha/knn/data/USA_cars_datasets.csv\")\n",
    "cars = cars.loc[:,('price', 'year', 'mileage')]\n",
    "cars.head(15) # smaller df\n",
    "\n",
    "cars['price'].isnull().sum()\n",
    "cars['year'].isnull().sum()\n",
    "cars['mileage'].isnull().sum() # There are no NA's to handle\n",
    "\n",
    "cars.head(29)\n",
    "cars.shape # 2499 x 3"
   ]
  },
  {
   "cell_type": "code",
   "execution_count": 21,
   "id": "e6fbad87-bd3a-46bf-bdc4-ea06735171a8",
   "metadata": {},
   "outputs": [],
   "source": [
    "# Max min normalize year and mileage\n",
    "\n",
    "def maxmin(z):\n",
    "    z = (z-min(z))-(max(z)-min(z))\n",
    "    return(z)\n",
    "\n",
    "normcars = cars[['year', 'mileage']].apply(maxmin)"
   ]
  },
  {
   "cell_type": "code",
   "execution_count": 22,
   "id": "ac22b740-d731-4393-becd-deb8cfd59f8b",
   "metadata": {},
   "outputs": [],
   "source": [
    "from sklearn.model_selection import train_test_split\n",
    "X_train, X_test, Y_train, Y_test = train_test_split(normcars, cars['price'], test_size=.2, random_state=100) # successfully split dataset into 80/20"
   ]
  },
  {
   "cell_type": "code",
   "execution_count": null,
   "id": "4fe994a4-a5f1-4962-9e49-bc27c950fd4d",
   "metadata": {},
   "outputs": [],
   "source": [
    "from sklearn.neighbors import KNeighborsRegressor\n",
    "\n",
    "for k in [3,10,25,50,100,300]:\n",
    "    model = KNeighborsRegressor(n_neighbors=k).fit(X_train,Y_train) # fit the model on the training data with k neighbors\n",
    "    Y_hat = model.predict(X_test) # performed prediction of Y_hat with input of X_test using the model built\n",
    "    SSE = np.sum( (Y_test-Y_hat)**2 ) # calculated the SSE of predicted values of y (Y_hat) difference with true y values (Y_test)\n",
    "    plot, axes = plt.subplots()\n",
    "    plt.scatter(Y_test,Y_hat) # made a scatterplot of predicted y values and actual y values within test set\n",
    "    plt.title('k: '+str(k)+', SSE: '+str(SSE)) # titles of plot\n",
    "    axes.set_ylim(-1000, 62000)\n",
    "    axes.set_xlim(-1000, 62000)\n",
    "    plt.show()\n",
    "\n",
    "# It seems that as k increases, the predictions tend to bunch together at the modal points of actual y. There is less variation among the data points."
   ]
  },
  {
   "cell_type": "code",
   "execution_count": 41,
   "id": "9662262b-da2b-4886-9e69-c4a52e8fa23e",
   "metadata": {},
   "outputs": [
    {
     "name": "stdout",
     "output_type": "stream",
     "text": [
      "[12]\n"
     ]
    },
    {
     "data": {
      "image/png": "[encoded data removed]",
      "text/plain": [
       "<Figure size 640x480 with 1 Axes>"
      ]
     },
     "metadata": {},
     "output_type": "display_data"
    }
   ],
   "source": [
    "k_bar = 200\n",
    "k_grid = np.arange(1,k_bar) # The range of k's to consider\n",
    "SSE = np.zeros(k_bar) \n",
    "\n",
    "for k in range(k_bar):\n",
    "    fitted_model = KNeighborsRegressor(n_neighbors=k+1).fit(X_train,Y_train) \n",
    "    Y_hat = fitted_model.predict(X_test) # Predict values for test set\n",
    "    SSE[k] = np.sum( (Y_test-Y_hat)**2 ) # Save the computed SSE\n",
    " \n",
    "SSE_min = np.min(SSE) # Lowest recorded SSE\n",
    "min_index = np.where(SSE==SSE_min) # Find the indices of y that equal the minimum\n",
    "k_star = k_grid[min_index] # Find the optimal value of k\n",
    "print(k_star)\n",
    "# Prints [12]\n",
    "\n",
    "plt.plot(np.arange(0,k_bar),SSE) # Plot SSE by k\n",
    "plt.xlabel(\"k\")\n",
    "plt.title(\"optimal k:\"+str(k_star))\n",
    "plt.ylabel('SSE')\n",
    "plt.show()\n",
    "# 12 is the lowest point on the y-axis"
   ]
  },
  {
   "cell_type": "markdown",
   "id": "80343f58-d044-4841-89aa-f35d4b65bf1c",
   "metadata": {},
   "source": [
    "The optimal k is around 12. Therefore, k values of 25 and higher will probably overfit the model as values tend to horizontally bunch. K values of 3 and 10 will result in underfitting of the model, with high variance."
   ]
  },
  {
   "cell_type": "markdown",
   "id": "287b8586",
   "metadata": {},
   "source": [
    "**Q2.** This is a case study on $k$ nearest neighbor classification, using the `animals.csv` data.\n",
    "\n",
    "The data consist of a label, `class`, taking integer values 1 to 7, the name of the species, `animal`, and 16 characteristics of the animal, including `hair`, `feathers`, `milk`, `eggs`, `airborne`, and so on. \n",
    "\n",
    "1. Load the data. For each of the seven class labels, print the values in the class and get a sense of what is included in that group. Perform some other EDA: How big are the classes? How much variation is there in each of the features/covariates? Which variables do you think will best predict which class?\n",
    "2. Split the data 50/50 into training and test/validation sets. (The smaller the data are, the more equal the split should be, in my experience: Otherwise, all of the members of one class end up in the training or test data, and the model falls apart.)\n",
    "3. Using all of the variables, build a $k$-NN classifier. Explain how you select $k$.\n",
    "4. Print a confusion table for the optimal model, comparing predicted and actual class label on the test set. How accurate it is? Can you interpret why mistakes are made across groups?\n",
    "5. Use only `milk`, `aquatic`, and `airborne` to train a new $k$-NN classifier. Print your confusion table. Mine does not predict all of the classes, only a subset of them. To see the underlying probabilities, use `model.predict_proba(X_test.values)` to predict probabilities rather than labels for your `X_test` test data for your fitted `model`. Are all of the classes represented? Explain your results."
   ]
  },
  {
   "cell_type": "markdown",
   "id": "c008c35c",
   "metadata": {},
   "source": [
    "**Q3.** This question is a case study for $k$ nearest neighbor regression, using the `cars_env.csv` data. \n",
    "\n",
    "The variables that go into the model are one more dimension to think about: We can use the train-test split approach to pick the variables that go into the model, not just the number of neighbors.\n",
    "\n",
    "1. Load the data. We're going to use `footprint`, `baseline mpg`, `baseline price`, and `baseline sales`. Prepare some EDA results for these variables: describe tables, histograms/kernel density plots, scatterplots, etc. I renamed these variables to `footprint`, `mpg`, `price`, and `sales` to save time.\n",
    "2. Maxmin normalize `footprint`, `mpg`, and `price`. These will be our features/covariates $X$. Our target/dependent/outcome variable $y$ will be sales. Does it make sense to normalize $y$?\n",
    "3. Make a 30% train-test split of the data into 30% test/validation data and 70% training data. \n",
    "4. Using all three covariates --- `footprint`, `mpg`, and `price` --- what's the best $k$ to use? What SSE is achieved on the test set? To answer these questions, evalute the sum of squared error on the test set for a reasonable range of values of $k$ (perhaps 2 to 150), and find the $k$ with the lowest SSE. \n",
    "5. Do part 4 again, for each pair of variables: `footprint` and `mpg`, `footprint` and `price`, `mpg` and `price`.\n",
    "6. Which set of variables from parts 4 and 5 does the best, in terms of minimizing SSE at the optimal choice of neighbors? Explain."
   ]
  },
  {
   "cell_type": "markdown",
   "id": "6a0ff5e3",
   "metadata": {},
   "source": [
    "**Q4.** This is a case study on $k$ nearest neighbor classification, using the `land_mines.csv` data.\n",
    "\n",
    "The data consists of a label, `mine_type`, taking integer values 1 to 5, and three properties of the mine, `voltage`, `height` and `soil`. We want to predict the kind of mine from data about it. Imagine working for the DOD or a humanitarian aid agency, trying to help people remove land mines more safely.\n",
    "\n",
    "1. Load the data. Perform some EDA, summarizing the target label and the features.\n",
    "2. Split the sample 50/50 into training and test/validation sets. (The smaller the data are, the more equal the split should be, in my experience: Otherwise, all of the members of one class end up in the training or test data, and the model falls apart.)\n",
    "3. Build a $k$-NN classifier. Explain how you select $k$.\n",
    "4. Print a confusion table for the optimal model, comparing predicted and actual class label on the test set. How accurate is it? Where is performance more or less accurate?\n",
    "5. Notice that you can have a lot of accurate predictions for a given type of mine, but still make a lot of mistakes. Please explain how you'd advise someone to actually use this predictive model in practice, given the errors that it tends to make."
   ]
  },
  {
   "cell_type": "markdown",
   "id": "010b57f7-bf4f-4494-b54c-49c4f3ae3ab9",
   "metadata": {},
   "source": [
    "**Q5.** This question is a case study for $k$ nearest neighbor regression, using the `heart_failure_clinical_records_dataset.csv` data.\n",
    "\n",
    "The data for the question include:\n",
    "\n",
    "- age: age of the patient (years)\n",
    "- anaemia: decrease of red blood cells or hemoglobin (boolean)\n",
    "- high blood pressure: if the patient has hypertension (boolean)\n",
    "- creatinine phosphokinase (CPK): level of the CPK enzyme in the blood (mcg/L)\n",
    "- diabetes: if the patient has diabetes (boolean)\n",
    "- ejection fraction: percentage of blood leaving the heart at each contraction (percentage)\n",
    "- platelets: platelets in the blood (kiloplatelets/mL)\n",
    "- sex: woman or man (binary)\n",
    "- serum creatinine: level of serum creatinine in the blood (mg/dL)\n",
    "- serum sodium: level of serum sodium in the blood (mEq/L)\n",
    "- smoking: if the patient smokes or not (boolean)\n",
    "- time: follow-up period (days)\n",
    "- death event: if the patient deceased during the follow-up period (boolean)\n",
    "\n",
    "1. Load the `./data/heart_failure_clinical_records_dataset.csv`. Are there any `NA`'s to handle? use `.drop()` to remove `time` from the dataframe.\n",
    "2. Make a correlation matrix. What variables are strongly associated with a death event?\n",
    "3. For the dummy variables `anaemia`, `diabetes`, `high_blood_pressure`, `sex`, and `smoking`, compute a summary table of `DEATH_EVENT` grouped by the variable. For which variables does a higher proportion of the population die when the variable takes the value 1 rather than 0?\n",
    "4. On the basis of your answers from 2 and 3, build a matrix $X$ of the variables you think are most predictive of a death, and a variable $y$ equal to `DEATH_EVENT`.\n",
    "5. Maxmin normalize all of the variables in `X`.\n",
    "6. Split the sample into ~80% for training and ~20% for evaluation. (Try to use the same train/test split for the whole question, so that you're comparing apples to apples in the questions below.).\n",
    "7. Determine the optimal number of neighbors for a $k$NN regression for the variables you selected.\n",
    "8. OK, do steps 5 through 7 again, but use all of the variables (except `time`). Which model has a lower Sum of Squared Error? Which would you prefer to use in practice, if you had to predict `DEATH_EVENT`s? If you play with the selection of variables, how much does the SSE change for your fitted model on the test data? Are more variables always better? Explain your findings."
   ]
  },
  {
   "cell_type": "markdown",
   "id": "8d193de6",
   "metadata": {
    "vscode": {
     "languageId": "plaintext"
    }
   },
   "source": [
    "**Q6.** This is a case study on $k$ nearest neighbor regression and imputation, using the `airbnb_hw.csv` data.\n",
    "\n",
    "There are 30,478 observations, but only 22,155 ratings. We're going to build a kNN regressor to impute missing values. This is a common task, and illustrates one way you can use kNN in the future even when you have more advanced models available.\n",
    "\n",
    "1. Load the `airbnb_hw.csv` data with Pandas. We're only going to use `Review Scores Rating`, `Price`, and `Beds`, so use `.loc` to reduce the dataframe to those variables.\n",
    "2. Set use `.isnull()` to select the subset of the dataframe with missing review values. Set those aside in a different dataframe. We'll make predictions about them later.\n",
    "3. Use `df = df.dropna(axis = 0, how = 'any')` to eliminate any observations with missing values/NA's from the dataframe.\n",
    "4. For the complete cases, create a $k$-NN model that uses the variables `Price` and `Beds` to predict `Review Scores Rating`. How do you choose $k$? (Hint: Train/test split, iterate over reasonable values of $k$ and find a value that minimizes SSE on the test split using predictions from the training set.)\n",
    "5. Predict the missing ratings. \n",
    "6. Do a kernel density plot of the training ratings and the predicted missing ratings. Do they look similar or not? Explain why."
   ]
  }
 ],
 "metadata": {
  "kernelspec": {
   "display_name": "Python 3 (ipykernel)",
   "language": "python",
   "name": "python3"
  },
  "language_info": {
   "codemirror_mode": {
    "name": "ipython",
    "version": 3
   },
   "file_extension": ".py",
   "mimetype": "text/x-python",
   "name": "python",
   "nbconvert_exporter": "python",
   "pygments_lexer": "ipython3",
   "version": "3.12.4"
  }
 },
 "nbformat": 4,
 "nbformat_minor": 5
}
